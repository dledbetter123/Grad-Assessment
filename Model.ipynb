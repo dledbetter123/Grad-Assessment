{
 "cells": [
  {
   "cell_type": "code",
   "execution_count": null,
   "metadata": {},
   "outputs": [],
   "source": [
    "!pip install torch\n",
    "!pip install transformers"
   ]
  },
  {
   "cell_type": "code",
   "execution_count": 2,
   "metadata": {},
   "outputs": [],
   "source": [
    "import torch\n",
    "import torch.nn as nn\n",
    "import torch.nn.functional as F\n",
    "from transformers import BertTokenizer\n",
    "import string\n",
    "\n",
    "# the character based cnn required in the paper\n",
    "class CharCNN(nn.Module):\n",
    "    def __init__(self, num_chars, char_embed_size, num_filters, kernel_sizes):\n",
    "        super(CharCNN, self).__init__()\n",
    "        self.char_embedding = nn.Embedding(num_chars, char_embed_size)\n",
    "        self.convs = nn.ModuleList([\n",
    "            nn.Conv1d(char_embed_size, num_filters, kernel_size=k) # 1 dimensional convolution, not 2d like in 691.\n",
    "            for k in kernel_sizes\n",
    "        ])\n",
    "\n",
    "    def forward(self, x):\n",
    "        '''\n",
    "        x's shape is (batch, word_len, char_embed_size)\n",
    "        '''\n",
    "        x = self.char_embedding(x)\n",
    "        x = x.transpose(1, 2)  # (batch, char_embed_size, word_len)\n",
    "        x = [F.relu(conv(x)) for conv in self.convs]  # cnn\n",
    "        x = [F.max_pool1d(i, i.size(2)).squeeze(2) for i in x]\n",
    "        x = torch.cat(x, 1)  # join measurements\n",
    "        return x"
   ]
  },
  {
   "cell_type": "code",
   "execution_count": 6,
   "metadata": {},
   "outputs": [],
   "source": [
    "# Prepare model hyperparameters\n",
    "num_chars = len(char_dict)\n",
    "char_embed_size = 50\n",
    "num_filters = 100\n",
    "kernel_sizes = [3, 4, 5]\n",
    "\n",
    "char_dict = {char: idx + 1 for idx, char in enumerate(string.ascii_letters + string.digits + string.punctuation)}\n",
    "char_dict['<pad>'] = 0\n",
    "char_dict['<unk>'] = -1\n",
    "\n",
    "num_chars = len(char_dict)\n",
    "char_embed_size = 50\n",
    "num_filters = 100\n",
    "kernel_sizes = [3, 4, 5]\n",
    "\n",
    "def char_indices(word, char_dict):\n",
    "    return [char_dict.get(c, char_dict['<unk>']) for c in word] # make unknowns default return\n",
    "\n",
    "def sentence_to_char_toks(sentence):\n",
    "    word_tokens = tokenizer.tokenize(sentence)\n",
    "    word_ids = tokenizer.convert_tokens_to_ids(word_tokens)\n",
    "    word_input = tokenizer(sentence, return_tensors=\"pt\")['input_ids']\n",
    "    char_inputs = [char_indices(word, char_dict) for word in word_tokens]\n",
    "    char_input = pad_sequences(char_inputs, maxlen=max(len(word) for word in word_tokens), padding='post')\n",
    "    return word_input, char_input\n",
    "\n",
    "def pad_sequences(sequences, maxlen, padding='post'):\n",
    "    # Pads sequences to the same length\n",
    "    num_instances = len(sequences)\n",
    "    x = torch.zeros((num_instances, maxlen), dtype=torch.long)\n",
    "    for i, seq in enumerate(sequences):\n",
    "        if len(seq) != 0:\n",
    "            if padding == 'pre':\n",
    "                x[i, -len(seq):] = torch.tensor(seq[:maxlen], dtype=torch.long)\n",
    "            else:\n",
    "                x[i, :len(seq)] = torch.tensor(seq[:maxlen], dtype=torch.long)\n",
    "    return x"
   ]
  },
  {
   "cell_type": "code",
   "execution_count": 7,
   "metadata": {},
   "outputs": [
    {
     "ename": "RuntimeError",
     "evalue": "Expected 2D (unbatched) or 3D (batched) input to conv1d, but got input of size: [1, 4, 3, 50]",
     "output_type": "error",
     "traceback": [
      "\u001b[0;31m---------------------------------------------------------------------------\u001b[0m",
      "\u001b[0;31mRuntimeError\u001b[0m                              Traceback (most recent call last)",
      "\u001b[1;32m/Users/davidledbetter/NLP-673/GradAssesment-Git/Model.ipynb Cell 4\u001b[0m line \u001b[0;36m2\n\u001b[1;32m     <a href='vscode-notebook-cell:/Users/davidledbetter/NLP-673/GradAssesment-Git/Model.ipynb#W3sZmlsZQ%3D%3D?line=20'>21</a>\u001b[0m \u001b[39m# Test the CharCNN\u001b[39;00m\n\u001b[1;32m     <a href='vscode-notebook-cell:/Users/davidledbetter/NLP-673/GradAssesment-Git/Model.ipynb#W3sZmlsZQ%3D%3D?line=21'>22</a>\u001b[0m \u001b[39mwith\u001b[39;00m torch\u001b[39m.\u001b[39mno_grad():\n\u001b[0;32m---> <a href='vscode-notebook-cell:/Users/davidledbetter/NLP-673/GradAssesment-Git/Model.ipynb#W3sZmlsZQ%3D%3D?line=22'>23</a>\u001b[0m     char_cnn_output \u001b[39m=\u001b[39m char_cnn(char_input)\n\u001b[1;32m     <a href='vscode-notebook-cell:/Users/davidledbetter/NLP-673/GradAssesment-Git/Model.ipynb#W3sZmlsZQ%3D%3D?line=24'>25</a>\u001b[0m \u001b[39mprint\u001b[39m(\u001b[39m\"\u001b[39m\u001b[39mCharCNN output:\u001b[39m\u001b[39m\"\u001b[39m, char_cnn_output)\n",
      "File \u001b[0;32m~/miniconda/envs/tf/lib/python3.9/site-packages/torch/nn/modules/module.py:1518\u001b[0m, in \u001b[0;36mModule._wrapped_call_impl\u001b[0;34m(self, *args, **kwargs)\u001b[0m\n\u001b[1;32m   1516\u001b[0m     \u001b[39mreturn\u001b[39;00m \u001b[39mself\u001b[39m\u001b[39m.\u001b[39m_compiled_call_impl(\u001b[39m*\u001b[39margs, \u001b[39m*\u001b[39m\u001b[39m*\u001b[39mkwargs)  \u001b[39m# type: ignore[misc]\u001b[39;00m\n\u001b[1;32m   1517\u001b[0m \u001b[39melse\u001b[39;00m:\n\u001b[0;32m-> 1518\u001b[0m     \u001b[39mreturn\u001b[39;00m \u001b[39mself\u001b[39;49m\u001b[39m.\u001b[39;49m_call_impl(\u001b[39m*\u001b[39;49margs, \u001b[39m*\u001b[39;49m\u001b[39m*\u001b[39;49mkwargs)\n",
      "File \u001b[0;32m~/miniconda/envs/tf/lib/python3.9/site-packages/torch/nn/modules/module.py:1527\u001b[0m, in \u001b[0;36mModule._call_impl\u001b[0;34m(self, *args, **kwargs)\u001b[0m\n\u001b[1;32m   1522\u001b[0m \u001b[39m# If we don't have any hooks, we want to skip the rest of the logic in\u001b[39;00m\n\u001b[1;32m   1523\u001b[0m \u001b[39m# this function, and just call forward.\u001b[39;00m\n\u001b[1;32m   1524\u001b[0m \u001b[39mif\u001b[39;00m \u001b[39mnot\u001b[39;00m (\u001b[39mself\u001b[39m\u001b[39m.\u001b[39m_backward_hooks \u001b[39mor\u001b[39;00m \u001b[39mself\u001b[39m\u001b[39m.\u001b[39m_backward_pre_hooks \u001b[39mor\u001b[39;00m \u001b[39mself\u001b[39m\u001b[39m.\u001b[39m_forward_hooks \u001b[39mor\u001b[39;00m \u001b[39mself\u001b[39m\u001b[39m.\u001b[39m_forward_pre_hooks\n\u001b[1;32m   1525\u001b[0m         \u001b[39mor\u001b[39;00m _global_backward_pre_hooks \u001b[39mor\u001b[39;00m _global_backward_hooks\n\u001b[1;32m   1526\u001b[0m         \u001b[39mor\u001b[39;00m _global_forward_hooks \u001b[39mor\u001b[39;00m _global_forward_pre_hooks):\n\u001b[0;32m-> 1527\u001b[0m     \u001b[39mreturn\u001b[39;00m forward_call(\u001b[39m*\u001b[39;49margs, \u001b[39m*\u001b[39;49m\u001b[39m*\u001b[39;49mkwargs)\n\u001b[1;32m   1529\u001b[0m \u001b[39mtry\u001b[39;00m:\n\u001b[1;32m   1530\u001b[0m     result \u001b[39m=\u001b[39m \u001b[39mNone\u001b[39;00m\n",
      "\u001b[1;32m/Users/davidledbetter/NLP-673/GradAssesment-Git/Model.ipynb Cell 4\u001b[0m line \u001b[0;36m2\n\u001b[1;32m     <a href='vscode-notebook-cell:/Users/davidledbetter/NLP-673/GradAssesment-Git/Model.ipynb#W3sZmlsZQ%3D%3D?line=20'>21</a>\u001b[0m x \u001b[39m=\u001b[39m \u001b[39mself\u001b[39m\u001b[39m.\u001b[39mchar_embedding(x)\n\u001b[1;32m     <a href='vscode-notebook-cell:/Users/davidledbetter/NLP-673/GradAssesment-Git/Model.ipynb#W3sZmlsZQ%3D%3D?line=21'>22</a>\u001b[0m x \u001b[39m=\u001b[39m x\u001b[39m.\u001b[39mtranspose(\u001b[39m1\u001b[39m, \u001b[39m2\u001b[39m)  \u001b[39m# (batch, char_embed_size, word_len)\u001b[39;00m\n\u001b[0;32m---> <a href='vscode-notebook-cell:/Users/davidledbetter/NLP-673/GradAssesment-Git/Model.ipynb#W3sZmlsZQ%3D%3D?line=22'>23</a>\u001b[0m x \u001b[39m=\u001b[39m [F\u001b[39m.\u001b[39mrelu(conv(x)) \u001b[39mfor\u001b[39;00m conv \u001b[39min\u001b[39;00m \u001b[39mself\u001b[39m\u001b[39m.\u001b[39mconvs]  \u001b[39m# cnn\u001b[39;00m\n\u001b[1;32m     <a href='vscode-notebook-cell:/Users/davidledbetter/NLP-673/GradAssesment-Git/Model.ipynb#W3sZmlsZQ%3D%3D?line=23'>24</a>\u001b[0m x \u001b[39m=\u001b[39m [F\u001b[39m.\u001b[39mmax_pool1d(i, i\u001b[39m.\u001b[39msize(\u001b[39m2\u001b[39m))\u001b[39m.\u001b[39msqueeze(\u001b[39m2\u001b[39m) \u001b[39mfor\u001b[39;00m i \u001b[39min\u001b[39;00m x]\n\u001b[1;32m     <a href='vscode-notebook-cell:/Users/davidledbetter/NLP-673/GradAssesment-Git/Model.ipynb#W3sZmlsZQ%3D%3D?line=24'>25</a>\u001b[0m x \u001b[39m=\u001b[39m torch\u001b[39m.\u001b[39mcat(x, \u001b[39m1\u001b[39m)  \u001b[39m# join measurements\u001b[39;00m\n",
      "\u001b[1;32m/Users/davidledbetter/NLP-673/GradAssesment-Git/Model.ipynb Cell 4\u001b[0m line \u001b[0;36m2\n\u001b[1;32m     <a href='vscode-notebook-cell:/Users/davidledbetter/NLP-673/GradAssesment-Git/Model.ipynb#W3sZmlsZQ%3D%3D?line=20'>21</a>\u001b[0m x \u001b[39m=\u001b[39m \u001b[39mself\u001b[39m\u001b[39m.\u001b[39mchar_embedding(x)\n\u001b[1;32m     <a href='vscode-notebook-cell:/Users/davidledbetter/NLP-673/GradAssesment-Git/Model.ipynb#W3sZmlsZQ%3D%3D?line=21'>22</a>\u001b[0m x \u001b[39m=\u001b[39m x\u001b[39m.\u001b[39mtranspose(\u001b[39m1\u001b[39m, \u001b[39m2\u001b[39m)  \u001b[39m# (batch, char_embed_size, word_len)\u001b[39;00m\n\u001b[0;32m---> <a href='vscode-notebook-cell:/Users/davidledbetter/NLP-673/GradAssesment-Git/Model.ipynb#W3sZmlsZQ%3D%3D?line=22'>23</a>\u001b[0m x \u001b[39m=\u001b[39m [F\u001b[39m.\u001b[39mrelu(conv(x)) \u001b[39mfor\u001b[39;00m conv \u001b[39min\u001b[39;00m \u001b[39mself\u001b[39m\u001b[39m.\u001b[39mconvs]  \u001b[39m# cnn\u001b[39;00m\n\u001b[1;32m     <a href='vscode-notebook-cell:/Users/davidledbetter/NLP-673/GradAssesment-Git/Model.ipynb#W3sZmlsZQ%3D%3D?line=23'>24</a>\u001b[0m x \u001b[39m=\u001b[39m [F\u001b[39m.\u001b[39mmax_pool1d(i, i\u001b[39m.\u001b[39msize(\u001b[39m2\u001b[39m))\u001b[39m.\u001b[39msqueeze(\u001b[39m2\u001b[39m) \u001b[39mfor\u001b[39;00m i \u001b[39min\u001b[39;00m x]\n\u001b[1;32m     <a href='vscode-notebook-cell:/Users/davidledbetter/NLP-673/GradAssesment-Git/Model.ipynb#W3sZmlsZQ%3D%3D?line=24'>25</a>\u001b[0m x \u001b[39m=\u001b[39m torch\u001b[39m.\u001b[39mcat(x, \u001b[39m1\u001b[39m)  \u001b[39m# join measurements\u001b[39;00m\n",
      "File \u001b[0;32m~/miniconda/envs/tf/lib/python3.9/site-packages/torch/nn/modules/module.py:1518\u001b[0m, in \u001b[0;36mModule._wrapped_call_impl\u001b[0;34m(self, *args, **kwargs)\u001b[0m\n\u001b[1;32m   1516\u001b[0m     \u001b[39mreturn\u001b[39;00m \u001b[39mself\u001b[39m\u001b[39m.\u001b[39m_compiled_call_impl(\u001b[39m*\u001b[39margs, \u001b[39m*\u001b[39m\u001b[39m*\u001b[39mkwargs)  \u001b[39m# type: ignore[misc]\u001b[39;00m\n\u001b[1;32m   1517\u001b[0m \u001b[39melse\u001b[39;00m:\n\u001b[0;32m-> 1518\u001b[0m     \u001b[39mreturn\u001b[39;00m \u001b[39mself\u001b[39;49m\u001b[39m.\u001b[39;49m_call_impl(\u001b[39m*\u001b[39;49margs, \u001b[39m*\u001b[39;49m\u001b[39m*\u001b[39;49mkwargs)\n",
      "File \u001b[0;32m~/miniconda/envs/tf/lib/python3.9/site-packages/torch/nn/modules/module.py:1527\u001b[0m, in \u001b[0;36mModule._call_impl\u001b[0;34m(self, *args, **kwargs)\u001b[0m\n\u001b[1;32m   1522\u001b[0m \u001b[39m# If we don't have any hooks, we want to skip the rest of the logic in\u001b[39;00m\n\u001b[1;32m   1523\u001b[0m \u001b[39m# this function, and just call forward.\u001b[39;00m\n\u001b[1;32m   1524\u001b[0m \u001b[39mif\u001b[39;00m \u001b[39mnot\u001b[39;00m (\u001b[39mself\u001b[39m\u001b[39m.\u001b[39m_backward_hooks \u001b[39mor\u001b[39;00m \u001b[39mself\u001b[39m\u001b[39m.\u001b[39m_backward_pre_hooks \u001b[39mor\u001b[39;00m \u001b[39mself\u001b[39m\u001b[39m.\u001b[39m_forward_hooks \u001b[39mor\u001b[39;00m \u001b[39mself\u001b[39m\u001b[39m.\u001b[39m_forward_pre_hooks\n\u001b[1;32m   1525\u001b[0m         \u001b[39mor\u001b[39;00m _global_backward_pre_hooks \u001b[39mor\u001b[39;00m _global_backward_hooks\n\u001b[1;32m   1526\u001b[0m         \u001b[39mor\u001b[39;00m _global_forward_hooks \u001b[39mor\u001b[39;00m _global_forward_pre_hooks):\n\u001b[0;32m-> 1527\u001b[0m     \u001b[39mreturn\u001b[39;00m forward_call(\u001b[39m*\u001b[39;49margs, \u001b[39m*\u001b[39;49m\u001b[39m*\u001b[39;49mkwargs)\n\u001b[1;32m   1529\u001b[0m \u001b[39mtry\u001b[39;00m:\n\u001b[1;32m   1530\u001b[0m     result \u001b[39m=\u001b[39m \u001b[39mNone\u001b[39;00m\n",
      "File \u001b[0;32m~/miniconda/envs/tf/lib/python3.9/site-packages/torch/nn/modules/conv.py:310\u001b[0m, in \u001b[0;36mConv1d.forward\u001b[0;34m(self, input)\u001b[0m\n\u001b[1;32m    309\u001b[0m \u001b[39mdef\u001b[39;00m \u001b[39mforward\u001b[39m(\u001b[39mself\u001b[39m, \u001b[39minput\u001b[39m: Tensor) \u001b[39m-\u001b[39m\u001b[39m>\u001b[39m Tensor:\n\u001b[0;32m--> 310\u001b[0m     \u001b[39mreturn\u001b[39;00m \u001b[39mself\u001b[39;49m\u001b[39m.\u001b[39;49m_conv_forward(\u001b[39minput\u001b[39;49m, \u001b[39mself\u001b[39;49m\u001b[39m.\u001b[39;49mweight, \u001b[39mself\u001b[39;49m\u001b[39m.\u001b[39;49mbias)\n",
      "File \u001b[0;32m~/miniconda/envs/tf/lib/python3.9/site-packages/torch/nn/modules/conv.py:306\u001b[0m, in \u001b[0;36mConv1d._conv_forward\u001b[0;34m(self, input, weight, bias)\u001b[0m\n\u001b[1;32m    302\u001b[0m \u001b[39mif\u001b[39;00m \u001b[39mself\u001b[39m\u001b[39m.\u001b[39mpadding_mode \u001b[39m!=\u001b[39m \u001b[39m'\u001b[39m\u001b[39mzeros\u001b[39m\u001b[39m'\u001b[39m:\n\u001b[1;32m    303\u001b[0m     \u001b[39mreturn\u001b[39;00m F\u001b[39m.\u001b[39mconv1d(F\u001b[39m.\u001b[39mpad(\u001b[39minput\u001b[39m, \u001b[39mself\u001b[39m\u001b[39m.\u001b[39m_reversed_padding_repeated_twice, mode\u001b[39m=\u001b[39m\u001b[39mself\u001b[39m\u001b[39m.\u001b[39mpadding_mode),\n\u001b[1;32m    304\u001b[0m                     weight, bias, \u001b[39mself\u001b[39m\u001b[39m.\u001b[39mstride,\n\u001b[1;32m    305\u001b[0m                     _single(\u001b[39m0\u001b[39m), \u001b[39mself\u001b[39m\u001b[39m.\u001b[39mdilation, \u001b[39mself\u001b[39m\u001b[39m.\u001b[39mgroups)\n\u001b[0;32m--> 306\u001b[0m \u001b[39mreturn\u001b[39;00m F\u001b[39m.\u001b[39;49mconv1d(\u001b[39minput\u001b[39;49m, weight, bias, \u001b[39mself\u001b[39;49m\u001b[39m.\u001b[39;49mstride,\n\u001b[1;32m    307\u001b[0m                 \u001b[39mself\u001b[39;49m\u001b[39m.\u001b[39;49mpadding, \u001b[39mself\u001b[39;49m\u001b[39m.\u001b[39;49mdilation, \u001b[39mself\u001b[39;49m\u001b[39m.\u001b[39;49mgroups)\n",
      "\u001b[0;31mRuntimeError\u001b[0m: Expected 2D (unbatched) or 3D (batched) input to conv1d, but got input of size: [1, 4, 3, 50]"
     ]
    }
   ],
   "source": [
    "# Create a CharCNN instance\n",
    "char_cnn = CharCNN(num_chars=num_chars, char_embed_size=char_embed_size, num_filters=num_filters, kernel_sizes=kernel_sizes)\n",
    "\n",
    "# Function to convert sentence to character indices\n",
    "def sentence_to_char_input(sentence, char_dict):\n",
    "    char_seqs = []\n",
    "    for word in sentence.split():\n",
    "        char_seq = char_indices(word, char_dict)\n",
    "        char_seqs.append(char_seq)\n",
    "    char_input = pad_sequences(char_seqs, maxlen=max(len(word) for word in sentence.split()), padding='post')\n",
    "    return char_input\n",
    "\n",
    "# Prepare a sample sentence\n",
    "test_sentence = \"test char cnn\"\n",
    "char_input = sentence_to_char_input(test_sentence, char_dict)\n",
    "\n",
    "# Add an extra dimension for batch_size since CharCNN expects a batch of words\n",
    "# char_input = char_input.unsqueeze(0) would also work here if it's a single sequence\n",
    "char_input = char_input[None, :]\n",
    "\n",
    "# Test the CharCNN\n",
    "with torch.no_grad():\n",
    "    char_cnn_output = char_cnn(char_input)\n",
    "\n",
    "print(\"CharCNN output:\", char_cnn_output)"
   ]
  }
 ],
 "metadata": {
  "kernelspec": {
   "display_name": "Python 3",
   "language": "python",
   "name": "python3"
  },
  "language_info": {
   "codemirror_mode": {
    "name": "ipython",
    "version": 3
   },
   "file_extension": ".py",
   "mimetype": "text/x-python",
   "name": "python",
   "nbconvert_exporter": "python",
   "pygments_lexer": "ipython3",
   "version": "3.9.15"
  }
 },
 "nbformat": 4,
 "nbformat_minor": 2
}
